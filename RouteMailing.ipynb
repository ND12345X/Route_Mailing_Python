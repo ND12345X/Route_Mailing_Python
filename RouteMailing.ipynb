{
 "cells": [
  {
   "cell_type": "code",
   "execution_count": 18,
   "metadata": {},
   "outputs": [
    {
     "data": {
      "text/plain": [
       "(221, b'2.0.0 closing connection i65-v6sm38666951pfk.43 - gsmtp')"
      ]
     },
     "execution_count": 18,
     "metadata": {},
     "output_type": "execute_result"
    }
   ],
   "source": [
    "import pandas as pd\n",
    "import smtplib\n",
    "\n",
    "SenderAddress = \"dasnavarun06@gmail.com\"\n",
    "password = \"wrongpassword\"\n",
    "\n",
    "e = pd.read_excel(\"Email.xlsx\")\n",
    "emails = e['Emails'].values\n",
    "server = smtplib.SMTP(\"smtp.gmail.com\", 587)\n",
    "server.starttls()\n",
    "server.login(SenderAddress, password)\n",
    "msg = \"Hello this is an email from python u cunt\"\n",
    "subject = \"Hello world\"\n",
    "body = \"Subject: {}\\n\\n{}\".format(subject,msg)\n",
    "for email in emails:\n",
    "    server.sendmail(SenderAddress, email, body)\n",
    "server.quit()\n"
   ]
  },
  {
   "cell_type": "code",
   "execution_count": null,
   "metadata": {},
   "outputs": [],
   "source": []
  }
 ],
 "metadata": {
  "kernelspec": {
   "display_name": "Python 3",
   "language": "python",
   "name": "python3"
  },
  "language_info": {
   "codemirror_mode": {
    "name": "ipython",
    "version": 3
   },
   "file_extension": ".py",
   "mimetype": "text/x-python",
   "name": "python",
   "nbconvert_exporter": "python",
   "pygments_lexer": "ipython3",
   "version": "3.6.5"
  }
 },
 "nbformat": 4,
 "nbformat_minor": 2
}
